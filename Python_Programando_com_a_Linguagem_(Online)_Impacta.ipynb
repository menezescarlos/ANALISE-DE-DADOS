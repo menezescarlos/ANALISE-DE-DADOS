{
  "nbformat": 4,
  "nbformat_minor": 0,
  "metadata": {
    "colab": {
      "provenance": [],
      "authorship_tag": "ABX9TyPEwaIFKEQi27sWaJKlCPki",
      "include_colab_link": true
    },
    "kernelspec": {
      "name": "python3",
      "display_name": "Python 3"
    },
    "language_info": {
      "name": "python"
    }
  },
  "cells": [
    {
      "cell_type": "markdown",
      "metadata": {
        "id": "view-in-github",
        "colab_type": "text"
      },
      "source": [
        "<a href=\"https://colab.research.google.com/github/menezescarlos/Analise-de-Daodos/blob/main/Python_Programando_com_a_Linguagem_(Online)_Impacta.ipynb\" target=\"_parent\"><img src=\"https://colab.research.google.com/assets/colab-badge.svg\" alt=\"Open In Colab\"/></a>"
      ]
    },
    {
      "cell_type": "markdown",
      "source": [
        "#PROGRAMANDO EM PYTHON\n",
        "##Python - programando com a Linguagem (Online) / Impacta\n",
        "\n",
        "[Linkedin](https://www.linkedin.com/in/carlos-menezes-de-oliveira/?originalSubdomain=br)"
      ],
      "metadata": {
        "id": "lKvbl-G99zXl"
      }
    },
    {
      "cell_type": "code",
      "execution_count": 1,
      "metadata": {
        "colab": {
          "base_uri": "https://localhost:8080/"
        },
        "id": "shHOHsGA9hMI",
        "outputId": "09661543-71cf-452b-f051-14d0b5eae39e"
      },
      "outputs": [
        {
          "output_type": "stream",
          "name": "stdout",
          "text": [
            "Olá, mundo!\n",
            "O resultado da soma é: 7\n"
          ]
        }
      ],
      "source": [
        "# Este é um comentário. Você pode escrever suas notas e descrições aqui.\n",
        "\n",
        "# Vamos imprimir uma mensagem\n",
        "print(\"Olá, mundo!\")\n",
        "\n",
        "# Vamos fazer uma operação matemática simples\n",
        "resultado = 3 + 4\n",
        "print(\"O resultado da soma é:\", resultado)\n"
      ]
    }
  ]
}