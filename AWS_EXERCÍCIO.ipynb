{
  "nbformat": 4,
  "nbformat_minor": 0,
  "metadata": {
    "colab": {
      "provenance": [],
      "authorship_tag": "ABX9TyMEHu8N/sDnzTaVJmG0fGGB",
      "include_colab_link": true
    },
    "kernelspec": {
      "name": "python3",
      "display_name": "Python 3"
    },
    "language_info": {
      "name": "python"
    }
  },
  "cells": [
    {
      "cell_type": "markdown",
      "metadata": {
        "id": "view-in-github",
        "colab_type": "text"
      },
      "source": [
        "<a href=\"https://colab.research.google.com/github/menezescarlos/Analise-de-Daodos/blob/main/AWS_EXERC%C3%8DCIO.ipynb\" target=\"_parent\"><img src=\"https://colab.research.google.com/assets/colab-badge.svg\" alt=\"Open In Colab\"/></a>"
      ]
    },
    {
      "cell_type": "markdown",
      "source": [
        "# **COMANDOS PARA A CRIAÇÃO DE MAQUINA NA AWS**\n",
        "## Parte 1:\n",
        "A) Criação da keypair e listagem de keypairs<BR>\n",
        "B) Listagem de keypairs:<BR>\n",
        "C) Listar a VPCs<BR>\n",
        "\n",
        "##Parte 2: Criação e configuração do grupo de segurança  \n",
        "D) Adicionar regra de entrada ao grupo de segurança:\n",
        "E) Adicionar regra de entrada ao grupo de segurança:\n",
        "\n",
        "##Parte 3: Listagem e detalhamento de imagens\n",
        "F) Listagem das imagens de Ubuntu 20.04:<BR>\n",
        "G)Detalhamento da imagem escolhida <BR>\n",
        "\n",
        "##Parte 4: Listagem de VPCs e Subnets\n",
        "H)Listagem das VPCs:<BR>\n",
        "I)Listagem das Subnets:<BR>\n",
        "\n",
        "##Parte 5: Comando para instanciar a máquina EC2\n",
        "J)Script de inicialização (BASH_SCRIPT.txt):<BR>\n",
        "K)Comando para instanciar a máquina:<BR>\n",
        "\n",
        "##Parte 6: Detalhes da instância, conexão e encerramento\n",
        "L)Comando para verificar todos os detalhes da instância<BR>\n",
        "M)Comando para conectar-se à instância:<BR>\n",
        "N)Comando para encerrar a instância:<BR>\n",
        "\n",
        "\n",
        "\n",
        "##Arquivos a serem entregues:\n",
        "my-keypair.pem<BR>\n",
        "COMANDOS.txt<BR>\n",
        "keypairs.json<BR>\n",
        "image-id.json<BR>\n",
        "VPC-SA.json<BR>\n",
        "SUBNETS-SA.json<BR>\n",
        "config (configuração da região para São Paulo)<BR>\n",
        "instance-id.json<BR>\n",
        "BASH_SCRIPT.txt<BR>\n",
        "\n",
        "\n",
        "\n"
      ],
      "metadata": {
        "id": "XGTJky5rOi7g"
      }
    },
    {
      "cell_type": "markdown",
      "source": [],
      "metadata": {
        "id": "4nQM80UBP7rP"
      }
    },
    {
      "cell_type": "markdown",
      "source": [
        "#Parte 1:<BR>\n",
        "A) Criação da keypair e listagem de keypairs<BR>\n",
        "\n",
        "\n",
        "```\n",
        "aws ec2 create-key-pair --key-name my-keypair --query 'KeyMaterial' --output text > my-keypair.pem\n",
        "```\n",
        "\n",
        "\n",
        "B) Listagem de keypairs:<BR>\n",
        "\n",
        "\n",
        "\n",
        "```\n",
        "aws ec2 describe-key-pairs --query 'KeyPairs' > keypairs.json\n",
        "```\n",
        "\n",
        "\n",
        "C) Listar a VPCs<BR>\n",
        "\n",
        "\n",
        "```\n",
        "aws ec2 describe-key-pairs --query 'KeyPairs'\n",
        "```\n",
        "\n"
      ],
      "metadata": {
        "id": "EIwr_usmP9tk"
      }
    },
    {
      "cell_type": "markdown",
      "source": [
        "##Parte 2: Criação e configuração do grupo de segurança\n",
        "D) Adicionar regra de entrada ao grupo de segurança:<BR>\n",
        "\n",
        "\n",
        "```\n",
        "aws ec2 create-security-group --group-name my-security-group --description \"My security group\" --vpc-id 'vpc-0ec3cf210755439c4'\n",
        "\n",
        "VPC criada\n",
        "\"GroupId\": \"sg-03c8c1467b189eb1b\n",
        "```\n",
        "\n",
        "\n",
        "E) Adicionar regra de entrada ao grupo de segurança:\n",
        "\n",
        "\n",
        "```\n",
        "aws ec2 authorize-security-group-ingress --group-id 'sg-03c8c1467b189eb1b' --protocol tcp --port 22 --cidr 0.0.0.0/0\n",
        "\n",
        "```\n",
        "\n"
      ],
      "metadata": {
        "id": "AgYSSHUPQ4KD"
      }
    },
    {
      "cell_type": "markdown",
      "source": [
        "##Parte 3: Listagem e detalhamento de imagens\n",
        "\n",
        "F) Listagem das imagens de Ubuntu 20.04:\n",
        "\n",
        "\n",
        "```\n",
        "aws ec2 describe-images --filters \"Name=name,Values=*ubuntu/images/hvm-ssd/ubuntu-focal-20.04-amd64-server-*\" --query 'Images[*].[ImageId,Name,CreationDate,Architecture]'\n",
        "```\n",
        "\n",
        "\n",
        "G)Detalhamento da imagem escolhida (substitua <image-id> pelo ID da imagem escolhida):\n",
        "\n",
        "\n",
        "```\n",
        "aws ec2 describe-images --image-ids <image-id> --query 'Images[*].[ImageId,Name,CreationDate,Architecture]' > ami-0c00510020cdd45b4.json\n",
        "\n",
        "```\n",
        "\n",
        "\n",
        "\n",
        "\n"
      ],
      "metadata": {
        "id": "ZSGwjcF8RuZa"
      }
    },
    {
      "cell_type": "markdown",
      "source": [
        "##Parte 4: Listagem de VPCs e Subnets\n",
        "H)Listagem das VPCs:\n",
        "\n",
        "\n",
        "```\n",
        "aws ec2 describe-vpcs > VPC-SA.json\n",
        "```\n",
        "\n",
        "\n",
        "I)Listagem das Subnets:\n",
        "\n",
        "\n",
        "```\n",
        "aws ec2 describe-subnets > SUBNETS-SA.json\n",
        "```\n",
        "\n"
      ],
      "metadata": {
        "id": "oAxwI0zUR945"
      }
    },
    {
      "cell_type": "markdown",
      "source": [
        "##Parte 5: Comando para instanciar a máquina EC2\n",
        "J)Script de inicialização (BASH_SCRIPT.txt):\n",
        "\n",
        "\n",
        "```\n",
        "#!/bin/bash\n",
        "sudo timedatectl set-timezone America/New_York\n",
        "sudo apt-get update -y\n",
        "sudo apt-get upgrade -y\n",
        "sudo apt-get install -y python3 python3-pip\n",
        "pip3 install pandas numpy\n",
        "```\n"
      ],
      "metadata": {
        "id": "31XTh9ZISKq5"
      }
    },
    {
      "cell_type": "markdown",
      "source": [
        "K)Comando para instanciar a máquina:\n",
        "\n",
        "\n",
        "```\n",
        "aws ec2 run-instances --image-id 'ami-0c00510020cdd45b4' --instance-type c5.large --key-name my-keypair --security-group-ids 'sg-03c8c1467b189eb1b' --subnet-id <subnet-id> --region sa-east-1 --block-device-mappings DeviceName=/dev/sdh,Ebs={VolumeSize=15,VolumeType=gp3} --user-data file://BASH_SCRIPT.txt\n",
        "```\n"
      ],
      "metadata": {
        "id": "s7EWIGL5SRYp"
      }
    },
    {
      "cell_type": "markdown",
      "source": [
        "##Parte 6: Detalhes da instância, conexão e encerramento\n",
        "L)Comando para verificar todos os detalhes da instância (substitua <instance-id> pelo ID da instância):\n",
        "\n",
        "\n",
        "```\n",
        "aws ec2 describe-instances --instance-ids <instance-id> > <instance-id>.json\n",
        "```\n",
        "\n",
        "\n",
        "M)Comando para conectar-se à instância:\n",
        "\n",
        "\n",
        "```\n",
        "ssh -i my-keypair.pem ec2-user@<public-dns-name>\n",
        "\n",
        "```\n",
        "\n",
        "\n",
        "N)Comando para encerrar a instância:\n",
        "\n",
        "\n",
        "```\n",
        "aws ec2 terminate-instances --instance-ids <instance-id>\n",
        "```\n"
      ],
      "metadata": {
        "id": "XSbv-gMeSgh7"
      }
    },
    {
      "cell_type": "code",
      "source": [],
      "metadata": {
        "id": "F9LkPsEFSte9"
      },
      "execution_count": null,
      "outputs": []
    }
  ]
}