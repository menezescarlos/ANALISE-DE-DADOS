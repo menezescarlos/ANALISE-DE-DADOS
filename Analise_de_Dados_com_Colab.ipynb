{
  "nbformat": 4,
  "nbformat_minor": 0,
  "metadata": {
    "colab": {
      "provenance": [],
      "authorship_tag": "ABX9TyMoT4gj9rbOJEjn0hW+a68z",
      "include_colab_link": true
    },
    "kernelspec": {
      "name": "python3",
      "display_name": "Python 3"
    },
    "language_info": {
      "name": "python"
    }
  },
  "cells": [
    {
      "cell_type": "markdown",
      "metadata": {
        "id": "view-in-github",
        "colab_type": "text"
      },
      "source": [
        "<a href=\"https://colab.research.google.com/github/menezescarlos/Analise-de-Daodos/blob/main/Analise_de_Dados_com_Colab.ipynb\" target=\"_parent\"><img src=\"https://colab.research.google.com/assets/colab-badge.svg\" alt=\"Open In Colab\"/></a>"
      ]
    },
    {
      "cell_type": "code",
      "execution_count": 1,
      "metadata": {
        "colab": {
          "base_uri": "https://localhost:8080/"
        },
        "id": "cZrzjtKvzn3u",
        "outputId": "5bdaa4fe-642f-44bb-c3e5-aea1b2ed434d"
      },
      "outputs": [
        {
          "output_type": "stream",
          "name": "stdout",
          "text": [
            "Olá mundo\n"
          ]
        }
      ],
      "source": [
        "print('Olá mundo')"
      ]
    },
    {
      "cell_type": "code",
      "source": [
        "import pandas as pd\n"
      ],
      "metadata": {
        "id": "_ndvQf-_z9sS"
      },
      "execution_count": 2,
      "outputs": []
    },
    {
      "cell_type": "code",
      "source": [
        "# Criar um DataFrame a partir de um dicionário\n",
        "data = {\n",
        "    'Nome': ['Ana', 'Bruno', 'Carlos'],\n",
        "    'Idade': [23, 35, 45],\n",
        "    'Cidade': ['São Paulo', 'Rio de Janeiro', 'Belo Horizonte']\n",
        "}\n",
        "\n",
        "df = pd.DataFrame(data)\n",
        "\n",
        "# Exibir o DataFrame\n",
        "print(df)"
      ],
      "metadata": {
        "colab": {
          "base_uri": "https://localhost:8080/"
        },
        "id": "D0KJ1Xdp0Gik",
        "outputId": "68542028-5d68-48bb-da7f-daaff1a039c3"
      },
      "execution_count": 3,
      "outputs": [
        {
          "output_type": "stream",
          "name": "stdout",
          "text": [
            "     Nome  Idade          Cidade\n",
            "0     Ana     23       São Paulo\n",
            "1   Bruno     35  Rio de Janeiro\n",
            "2  Carlos     45  Belo Horizonte\n"
          ]
        }
      ]
    }
  ]
}