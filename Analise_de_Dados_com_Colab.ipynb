{
  "nbformat": 4,
  "nbformat_minor": 0,
  "metadata": {
    "colab": {
      "provenance": [],
      "authorship_tag": "ABX9TyOq4fhlfv8HhBWjKkBpHMMO",
      "include_colab_link": true
    },
    "kernelspec": {
      "name": "python3",
      "display_name": "Python 3"
    },
    "language_info": {
      "name": "python"
    }
  },
  "cells": [
    {
      "cell_type": "markdown",
      "metadata": {
        "id": "view-in-github",
        "colab_type": "text"
      },
      "source": [
        "<a href=\"https://colab.research.google.com/github/menezescarlos/Analise-de-Daodos/blob/main/Analise_de_Dados_com_Colab.ipynb\" target=\"_parent\"><img src=\"https://colab.research.google.com/assets/colab-badge.svg\" alt=\"Open In Colab\"/></a>"
      ]
    },
    {
      "cell_type": "code",
      "source": [
        "\n",
        "import numpy as pd\n",
        "import pandas as pd\n",
        "import seaborn as sns\n",
        "import matplotlib.pyplot as plt"
      ],
      "metadata": {
        "id": "tQtrkj03R9JD"
      },
      "execution_count": 64,
      "outputs": []
    },
    {
      "cell_type": "code",
      "source": [
        "# URL do arquivo CSV\n",
        "url = \"https://www.ime.usp.br/~keiji/abandono.csv\"\n",
        "\n",
        "# Lendo o arquivo CSV diretamente da URL com Pandas\n",
        "df = pd.read_csv(url)\n"
      ],
      "metadata": {
        "id": "1SbQBUCNLYHN"
      },
      "execution_count": 65,
      "outputs": []
    },
    {
      "cell_type": "code",
      "source": [
        "df.info()"
      ],
      "metadata": {
        "colab": {
          "base_uri": "https://localhost:8080/"
        },
        "id": "ifDFIqkYSc8t",
        "outputId": "99f3f87c-a71c-46ee-e895-afd69746e9b5"
      },
      "execution_count": 4,
      "outputs": [
        {
          "output_type": "stream",
          "name": "stdout",
          "text": [
            "<class 'pandas.core.frame.DataFrame'>\n",
            "RangeIndex: 3333 entries, 0 to 3332\n",
            "Data columns (total 20 columns):\n",
            " #   Column                  Non-Null Count  Dtype  \n",
            "---  ------                  --------------  -----  \n",
            " 0   State                   3333 non-null   object \n",
            " 1   Account length          3333 non-null   int64  \n",
            " 2   Area code               3333 non-null   int64  \n",
            " 3   International plan      3333 non-null   object \n",
            " 4   Voice mail plan         3333 non-null   object \n",
            " 5   Number vmail messages   3333 non-null   int64  \n",
            " 6   Total day minutes       3333 non-null   float64\n",
            " 7   Total day calls         3333 non-null   int64  \n",
            " 8   Total day charge        3333 non-null   float64\n",
            " 9   Total eve minutes       3333 non-null   float64\n",
            " 10  Total eve calls         3333 non-null   int64  \n",
            " 11  Total eve charge        3333 non-null   float64\n",
            " 12  Total night minutes     3333 non-null   float64\n",
            " 13  Total night calls       3333 non-null   int64  \n",
            " 14  Total night charge      3333 non-null   float64\n",
            " 15  Total intl minutes      3333 non-null   float64\n",
            " 16  Total intl calls        3333 non-null   int64  \n",
            " 17  Total intl charge       3333 non-null   float64\n",
            " 18  Customer service calls  3333 non-null   int64  \n",
            " 19  Churn                   3333 non-null   bool   \n",
            "dtypes: bool(1), float64(8), int64(8), object(3)\n",
            "memory usage: 498.1+ KB\n"
          ]
        }
      ]
    },
    {
      "cell_type": "code",
      "source": [
        "df.State.head()"
      ],
      "metadata": {
        "colab": {
          "base_uri": "https://localhost:8080/"
        },
        "id": "ePrObpe3TCXt",
        "outputId": "247deaa3-1922-47f1-d96c-af49d356cdd2"
      },
      "execution_count": 5,
      "outputs": [
        {
          "output_type": "execute_result",
          "data": {
            "text/plain": [
              "0    KS\n",
              "1    OH\n",
              "2    NJ\n",
              "3    OH\n",
              "4    OK\n",
              "Name: State, dtype: object"
            ]
          },
          "metadata": {},
          "execution_count": 5
        }
      ]
    },
    {
      "cell_type": "code",
      "source": [
        "df['Account length']"
      ],
      "metadata": {
        "colab": {
          "base_uri": "https://localhost:8080/"
        },
        "id": "Mg0TuBupTH-2",
        "outputId": "c61ca131-da3e-484e-9a06-ea7c735e9d56"
      },
      "execution_count": 6,
      "outputs": [
        {
          "output_type": "execute_result",
          "data": {
            "text/plain": [
              "0       128\n",
              "1       107\n",
              "2       137\n",
              "3        84\n",
              "4        75\n",
              "       ... \n",
              "3328    192\n",
              "3329     68\n",
              "3330     28\n",
              "3331    184\n",
              "3332     74\n",
              "Name: Account length, Length: 3333, dtype: int64"
            ]
          },
          "metadata": {},
          "execution_count": 6
        }
      ]
    },
    {
      "cell_type": "code",
      "source": [
        "df['International plan']"
      ],
      "metadata": {
        "colab": {
          "base_uri": "https://localhost:8080/"
        },
        "id": "_wLk6c9nTY6a",
        "outputId": "ec403b73-bffc-465c-e2de-6f3988798400"
      },
      "execution_count": 73,
      "outputs": [
        {
          "output_type": "execute_result",
          "data": {
            "text/plain": [
              "0        No\n",
              "1        No\n",
              "2        No\n",
              "3       Yes\n",
              "4       Yes\n",
              "       ... \n",
              "3328     No\n",
              "3329     No\n",
              "3330     No\n",
              "3331    Yes\n",
              "3332     No\n",
              "Name: International plan, Length: 3333, dtype: object"
            ]
          },
          "metadata": {},
          "execution_count": 73
        }
      ]
    },
    {
      "cell_type": "code",
      "source": [
        "df['Voice mail plan']"
      ],
      "metadata": {
        "colab": {
          "base_uri": "https://localhost:8080/"
        },
        "id": "eMIAK7cWTeiU",
        "outputId": "94983059-3dcb-42b6-f75f-4c6c72b1a6a3"
      },
      "execution_count": 7,
      "outputs": [
        {
          "output_type": "execute_result",
          "data": {
            "text/plain": [
              "0       Yes\n",
              "1       Yes\n",
              "2        No\n",
              "3        No\n",
              "4        No\n",
              "       ... \n",
              "3328    Yes\n",
              "3329     No\n",
              "3330     No\n",
              "3331     No\n",
              "3332    Yes\n",
              "Name: Voice mail plan, Length: 3333, dtype: object"
            ]
          },
          "metadata": {},
          "execution_count": 7
        }
      ]
    },
    {
      "cell_type": "code",
      "source": [
        "df.shape"
      ],
      "metadata": {
        "colab": {
          "base_uri": "https://localhost:8080/"
        },
        "id": "MS7mUs-OPAw_",
        "outputId": "5fbad90e-c293-44ef-996e-b5f4d9ebc598"
      },
      "execution_count": 75,
      "outputs": [
        {
          "output_type": "execute_result",
          "data": {
            "text/plain": [
              "(3333, 20)"
            ]
          },
          "metadata": {},
          "execution_count": 75
        }
      ]
    },
    {
      "cell_type": "code",
      "source": [
        "df.dtypes"
      ],
      "metadata": {
        "colab": {
          "base_uri": "https://localhost:8080/"
        },
        "id": "XLQ5ZGT5PMpp",
        "outputId": "750d274d-31a0-4b90-d39b-3063fa660875"
      },
      "execution_count": 76,
      "outputs": [
        {
          "output_type": "execute_result",
          "data": {
            "text/plain": [
              "State                      object\n",
              "Account length              int64\n",
              "Area code                   int64\n",
              "International plan         object\n",
              "Voice mail plan            object\n",
              "Number vmail messages       int64\n",
              "Total day minutes         float64\n",
              "Total day calls             int64\n",
              "Total day charge          float64\n",
              "Total eve minutes         float64\n",
              "Total eve calls             int64\n",
              "Total eve charge          float64\n",
              "Total night minutes       float64\n",
              "Total night calls           int64\n",
              "Total night charge        float64\n",
              "Total intl minutes        float64\n",
              "Total intl calls            int64\n",
              "Total intl charge         float64\n",
              "Customer service calls      int64\n",
              "Churn                        bool\n",
              "dtype: object"
            ]
          },
          "metadata": {},
          "execution_count": 76
        }
      ]
    },
    {
      "cell_type": "code",
      "source": [
        "num_elementos_diferentes = df['Churn'].nunique()\n",
        "\n",
        "# Exibindo o resultado\n",
        "print(\"Número de elementos diferentes na coluna:\", num_elementos_diferentes)"
      ],
      "metadata": {
        "colab": {
          "base_uri": "https://localhost:8080/"
        },
        "id": "xsBFr3x0Q7R5",
        "outputId": "2e1e0b91-09c3-4c27-8fbc-59e0888612dc"
      },
      "execution_count": 59,
      "outputs": [
        {
          "output_type": "stream",
          "name": "stdout",
          "text": [
            "Número de elementos diferentes na coluna: 2\n"
          ]
        }
      ]
    },
    {
      "cell_type": "code",
      "source": [
        "# Contando os valores True e False na coluna 'Churn'\n",
        "contagem_churn = df['Churn'].value_counts()\n",
        "\n",
        "# Exibindo o resultado\n",
        "print(\"Número de clientes Churn (True) e não Churn (False):\\n\", contagem_churn)"
      ],
      "metadata": {
        "colab": {
          "base_uri": "https://localhost:8080/"
        },
        "id": "kGvHFlv4RVCF",
        "outputId": "ab5070ff-e504-4ba9-9e33-3bac236510db"
      },
      "execution_count": 60,
      "outputs": [
        {
          "output_type": "stream",
          "name": "stdout",
          "text": [
            "Número de clientes Churn (True) e não Churn (False):\n",
            " Churn\n",
            "False    2850\n",
            "True      483\n",
            "Name: count, dtype: int64\n"
          ]
        }
      ]
    },
    {
      "cell_type": "code",
      "source": [
        "tabela_cruzada = pd.crosstab(df['Voice mail plan'], df['Churn'], normalize='index')\n",
        "\n",
        "# Exibindo a tabela cruzada\n",
        "print(tabela_cruzada)"
      ],
      "metadata": {
        "colab": {
          "base_uri": "https://localhost:8080/"
        },
        "id": "y2S2QP74TqVJ",
        "outputId": "29b83ab5-a610-48ab-e492-223fbacb8245"
      },
      "execution_count": 79,
      "outputs": [
        {
          "output_type": "stream",
          "name": "stdout",
          "text": [
            "Churn               False     True \n",
            "Voice mail plan                    \n",
            "No               0.832849  0.167151\n",
            "Yes              0.913232  0.086768\n"
          ]
        }
      ]
    },
    {
      "cell_type": "code",
      "source": [
        "tabela_cruzada = pd.crosstab(df['International plan'], df['Churn'], normalize='index')\n",
        "\n",
        "# Exibindo a tabela cruzada\n",
        "print(tabela_cruzada)"
      ],
      "metadata": {
        "colab": {
          "base_uri": "https://localhost:8080/"
        },
        "id": "gosNOCSzVO_b",
        "outputId": "e6b349d4-1df7-42ee-fd08-5108f576f146"
      },
      "execution_count": 82,
      "outputs": [
        {
          "output_type": "stream",
          "name": "stdout",
          "text": [
            "Churn                  False     True \n",
            "International plan                    \n",
            "No                  0.885050  0.114950\n",
            "Yes                 0.575851  0.424149\n"
          ]
        }
      ]
    },
    {
      "cell_type": "code",
      "source": [
        "tabela_cruzada = pd.crosstab(df['Total day charge'], df['Churn'], normalize='index')\n",
        "\n",
        "# Exibindo a tabela cruzada\n",
        "print(tabela_cruzada)"
      ],
      "metadata": {
        "colab": {
          "base_uri": "https://localhost:8080/"
        },
        "id": "jiJof9SHVobp",
        "outputId": "9174d962-78a6-4f87-f2a1-ac3fe878d554"
      },
      "execution_count": 83,
      "outputs": [
        {
          "output_type": "stream",
          "name": "stdout",
          "text": [
            "Churn             False  True \n",
            "Total day charge              \n",
            "0.00                0.5    0.5\n",
            "0.44                1.0    0.0\n",
            "1.33                1.0    0.0\n",
            "1.34                1.0    0.0\n",
            "2.13                1.0    0.0\n",
            "...                 ...    ...\n",
            "57.04               0.0    1.0\n",
            "57.36               0.0    1.0\n",
            "58.70               0.0    1.0\n",
            "58.96               0.0    1.0\n",
            "59.64               0.0    1.0\n",
            "\n",
            "[1667 rows x 2 columns]\n"
          ]
        }
      ]
    },
    {
      "cell_type": "code",
      "source": [
        "sns.countplot(x='Total day charge', data=df)"
      ],
      "metadata": {
        "colab": {
          "base_uri": "https://localhost:8080/",
          "height": 466
        },
        "id": "lFUZDfJVVyG3",
        "outputId": "622998c7-7343-4f9a-a265-2ea1e525e318"
      },
      "execution_count": 84,
      "outputs": [
        {
          "output_type": "execute_result",
          "data": {
            "text/plain": [
              "<Axes: xlabel='Total day charge', ylabel='count'>"
            ]
          },
          "metadata": {},
          "execution_count": 84
        },
        {
          "output_type": "display_data",
          "data": {
            "text/plain": [
              "<Figure size 640x480 with 1 Axes>"
            ],
            "image/png": "[encoded data removed]"
          },
          "metadata": {}
        }
      ]
    },
    {
      "cell_type": "code",
      "source": [
        "sns.boxplot(x='Total day charge', data=df)"
      ],
      "metadata": {
        "colab": {
          "base_uri": "https://localhost:8080/",
          "height": 466
        },
        "id": "aGmJLVB_WI0c",
        "outputId": "5988666f-27c7-40ac-deb4-cf8d180e3834"
      },
      "execution_count": 86,
      "outputs": [
        {
          "output_type": "execute_result",
          "data": {
            "text/plain": [
              "<Axes: xlabel='Total day charge'>"
            ]
          },
          "metadata": {},
          "execution_count": 86
        },
        {
          "output_type": "display_data",
          "data": {
            "text/plain": [
              "<Figure size 640x480 with 1 Axes>"
            ],
            "image/png": "[encoded data removed]"
          },
          "metadata": {}
        }
      ]
    },
    {
      "cell_type": "code",
      "source": [
        "tabela_cruzada = pd.crosstab(df['Customer service calls'], df['Churn'], normalize='index')\n",
        "\n",
        "# Exibindo a tabela cruzada\n",
        "print(tabela_cruzada)"
      ],
      "metadata": {
        "colab": {
          "base_uri": "https://localhost:8080/"
        },
        "id": "gm0wvsMVW3gJ",
        "outputId": "ec12032f-e581-4de9-e1e8-2f5b747aa250"
      },
      "execution_count": 76,
      "outputs": [
        {
          "output_type": "stream",
          "name": "stdout",
          "text": [
            "Churn                      False     True \n",
            "Customer service calls                    \n",
            "0                       0.868006  0.131994\n",
            "1                       0.896698  0.103302\n",
            "2                       0.885375  0.114625\n",
            "3                       0.897436  0.102564\n",
            "4                       0.542169  0.457831\n",
            "5                       0.393939  0.606061\n",
            "6                       0.363636  0.636364\n",
            "7                       0.444444  0.555556\n",
            "8                       0.500000  0.500000\n",
            "9                       0.000000  1.000000\n"
          ]
        }
      ]
    }
  ]
}