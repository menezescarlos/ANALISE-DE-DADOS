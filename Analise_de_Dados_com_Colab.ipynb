{
  "nbformat": 4,
  "nbformat_minor": 0,
  "metadata": {
    "colab": {
      "provenance": [],
      "authorship_tag": "ABX9TyOzDk7ixjXuVSurBOszez/J",
      "include_colab_link": true
    },
    "kernelspec": {
      "name": "python3",
      "display_name": "Python 3"
    },
    "language_info": {
      "name": "python"
    }
  },
  "cells": [
    {
      "cell_type": "markdown",
      "metadata": {
        "id": "view-in-github",
        "colab_type": "text"
      },
      "source": [
        "<a href=\"https://colab.research.google.com/github/menezescarlos/Analise-de-Daodos/blob/main/Analise_de_Dados_com_Colab.ipynb\" target=\"_parent\"><img src=\"https://colab.research.google.com/assets/colab-badge.svg\" alt=\"Open In Colab\"/></a>"
      ]
    },
    {
      "cell_type": "code",
      "source": [
        "import pandas as pd\n",
        "\n",
        "# URL do arquivo CSV\n",
        "url = \"https://www.ime.usp.br/~keiji/abandono.csv\"\n",
        "\n",
        "# Lendo o arquivo CSV diretamente da URL com Pandas\n",
        "df = pd.read_csv(url)\n",
        "\n",
        "# Visualizando as primeiras linhas do DataFrame\n",
        "print(df.head())\n"
      ],
      "metadata": {
        "id": "1SbQBUCNLYHN",
        "outputId": "00f140bc-ddee-432b-e764-da31ef4e92da",
        "colab": {
          "base_uri": "https://localhost:8080/"
        }
      },
      "execution_count": 53,
      "outputs": [
        {
          "output_type": "stream",
          "name": "stdout",
          "text": [
            "  State  Account length  Area code International plan Voice mail plan  \\\n",
            "0    KS             128        415                 No             Yes   \n",
            "1    OH             107        415                 No             Yes   \n",
            "2    NJ             137        415                 No              No   \n",
            "3    OH              84        408                Yes              No   \n",
            "4    OK              75        415                Yes              No   \n",
            "\n",
            "   Number vmail messages  Total day minutes  Total day calls  \\\n",
            "0                     25              265.1              110   \n",
            "1                     26              161.6              123   \n",
            "2                      0              243.4              114   \n",
            "3                      0              299.4               71   \n",
            "4                      0              166.7              113   \n",
            "\n",
            "   Total day charge  Total eve minutes  Total eve calls  Total eve charge  \\\n",
            "0             45.07              197.4               99             16.78   \n",
            "1             27.47              195.5              103             16.62   \n",
            "2             41.38              121.2              110             10.30   \n",
            "3             50.90               61.9               88              5.26   \n",
            "4             28.34              148.3              122             12.61   \n",
            "\n",
            "   Total night minutes  Total night calls  Total night charge  \\\n",
            "0                244.7                 91               11.01   \n",
            "1                254.4                103               11.45   \n",
            "2                162.6                104                7.32   \n",
            "3                196.9                 89                8.86   \n",
            "4                186.9                121                8.41   \n",
            "\n",
            "   Total intl minutes  Total intl calls  Total intl charge  \\\n",
            "0                10.0                 3               2.70   \n",
            "1                13.7                 3               3.70   \n",
            "2                12.2                 5               3.29   \n",
            "3                 6.6                 7               1.78   \n",
            "4                10.1                 3               2.73   \n",
            "\n",
            "   Customer service calls  Churn  \n",
            "0                       1  False  \n",
            "1                       1  False  \n",
            "2                       0  False  \n",
            "3                       2  False  \n",
            "4                       3  False  \n"
          ]
        }
      ]
    },
    {
      "cell_type": "code",
      "source": [
        "df.shape"
      ],
      "metadata": {
        "id": "MS7mUs-OPAw_",
        "outputId": "d31002e5-d725-4b51-a4d6-e829662f0d22",
        "colab": {
          "base_uri": "https://localhost:8080/"
        }
      },
      "execution_count": 56,
      "outputs": [
        {
          "output_type": "execute_result",
          "data": {
            "text/plain": [
              "(3333, 20)"
            ]
          },
          "metadata": {},
          "execution_count": 56
        }
      ]
    },
    {
      "cell_type": "code",
      "source": [
        "df.dtypes"
      ],
      "metadata": {
        "id": "XLQ5ZGT5PMpp",
        "outputId": "5266fc66-6244-41b0-a0f1-f9158c6b6895",
        "colab": {
          "base_uri": "https://localhost:8080/"
        }
      },
      "execution_count": 57,
      "outputs": [
        {
          "output_type": "execute_result",
          "data": {
            "text/plain": [
              "State                      object\n",
              "Account length              int64\n",
              "Area code                   int64\n",
              "International plan         object\n",
              "Voice mail plan            object\n",
              "Number vmail messages       int64\n",
              "Total day minutes         float64\n",
              "Total day calls             int64\n",
              "Total day charge          float64\n",
              "Total eve minutes         float64\n",
              "Total eve calls             int64\n",
              "Total eve charge          float64\n",
              "Total night minutes       float64\n",
              "Total night calls           int64\n",
              "Total night charge        float64\n",
              "Total intl minutes        float64\n",
              "Total intl calls            int64\n",
              "Total intl charge         float64\n",
              "Customer service calls      int64\n",
              "Churn                        bool\n",
              "dtype: object"
            ]
          },
          "metadata": {},
          "execution_count": 57
        }
      ]
    }
  ]
}