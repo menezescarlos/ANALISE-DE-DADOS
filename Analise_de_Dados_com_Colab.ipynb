{
  "nbformat": 4,
  "nbformat_minor": 0,
  "metadata": {
    "colab": {
      "provenance": [],
      "authorship_tag": "ABX9TyPJ8oz23CSRGfFKA1AX1cjp"
    },
    "kernelspec": {
      "name": "python3",
      "display_name": "Python 3"
    },
    "language_info": {
      "name": "python"
    }
  },
  "cells": [
    {
      "cell_type": "code",
      "source": [
        "\n",
        "import numpy as pd\n",
        "import pandas as pd\n",
        "import seaborn as sns"
      ],
      "metadata": {
        "id": "tQtrkj03R9JD"
      },
      "execution_count": 65,
      "outputs": []
    },
    {
      "cell_type": "code",
      "source": [
        "# URL do arquivo CSV\n",
        "url = \"https://www.ime.usp.br/~keiji/abandono.csv\"\n",
        "\n",
        "# Lendo o arquivo CSV diretamente da URL com Pandas\n",
        "df = pd.read_csv(url)\n"
      ],
      "metadata": {
        "id": "1SbQBUCNLYHN"
      },
      "execution_count": 67,
      "outputs": []
    },
    {
      "cell_type": "code",
      "source": [
        "df.info()"
      ],
      "metadata": {
        "id": "ifDFIqkYSc8t",
        "outputId": "9f939fa4-d3c1-4e5d-ba95-1faa41698871",
        "colab": {
          "base_uri": "https://localhost:8080/"
        }
      },
      "execution_count": 69,
      "outputs": [
        {
          "output_type": "stream",
          "name": "stdout",
          "text": [
            "<class 'pandas.core.frame.DataFrame'>\n",
            "RangeIndex: 3333 entries, 0 to 3332\n",
            "Data columns (total 20 columns):\n",
            " #   Column                  Non-Null Count  Dtype  \n",
            "---  ------                  --------------  -----  \n",
            " 0   State                   3333 non-null   object \n",
            " 1   Account length          3333 non-null   int64  \n",
            " 2   Area code               3333 non-null   int64  \n",
            " 3   International plan      3333 non-null   object \n",
            " 4   Voice mail plan         3333 non-null   object \n",
            " 5   Number vmail messages   3333 non-null   int64  \n",
            " 6   Total day minutes       3333 non-null   float64\n",
            " 7   Total day calls         3333 non-null   int64  \n",
            " 8   Total day charge        3333 non-null   float64\n",
            " 9   Total eve minutes       3333 non-null   float64\n",
            " 10  Total eve calls         3333 non-null   int64  \n",
            " 11  Total eve charge        3333 non-null   float64\n",
            " 12  Total night minutes     3333 non-null   float64\n",
            " 13  Total night calls       3333 non-null   int64  \n",
            " 14  Total night charge      3333 non-null   float64\n",
            " 15  Total intl minutes      3333 non-null   float64\n",
            " 16  Total intl calls        3333 non-null   int64  \n",
            " 17  Total intl charge       3333 non-null   float64\n",
            " 18  Customer service calls  3333 non-null   int64  \n",
            " 19  Churn                   3333 non-null   bool   \n",
            "dtypes: bool(1), float64(8), int64(8), object(3)\n",
            "memory usage: 498.1+ KB\n"
          ]
        }
      ]
    },
    {
      "cell_type": "code",
      "source": [
        "df.State.head()"
      ],
      "metadata": {
        "id": "ePrObpe3TCXt",
        "outputId": "8e41dfd8-9f04-4255-c3d5-866d9ee02de1",
        "colab": {
          "base_uri": "https://localhost:8080/"
        }
      },
      "execution_count": 70,
      "outputs": [
        {
          "output_type": "execute_result",
          "data": {
            "text/plain": [
              "0    KS\n",
              "1    OH\n",
              "2    NJ\n",
              "3    OH\n",
              "4    OK\n",
              "Name: State, dtype: object"
            ]
          },
          "metadata": {},
          "execution_count": 70
        }
      ]
    },
    {
      "cell_type": "code",
      "source": [
        "df['Account length']"
      ],
      "metadata": {
        "id": "Mg0TuBupTH-2",
        "outputId": "c294a95b-9ad3-4108-8e2b-fb20135b1a76",
        "colab": {
          "base_uri": "https://localhost:8080/"
        }
      },
      "execution_count": 72,
      "outputs": [
        {
          "output_type": "execute_result",
          "data": {
            "text/plain": [
              "0       128\n",
              "1       107\n",
              "2       137\n",
              "3        84\n",
              "4        75\n",
              "       ... \n",
              "3328    192\n",
              "3329     68\n",
              "3330     28\n",
              "3331    184\n",
              "3332     74\n",
              "Name: Account length, Length: 3333, dtype: int64"
            ]
          },
          "metadata": {},
          "execution_count": 72
        }
      ]
    },
    {
      "cell_type": "code",
      "source": [
        "df['International plan']"
      ],
      "metadata": {
        "id": "_wLk6c9nTY6a",
        "outputId": "ec403b73-bffc-465c-e2de-6f3988798400",
        "colab": {
          "base_uri": "https://localhost:8080/"
        }
      },
      "execution_count": 73,
      "outputs": [
        {
          "output_type": "execute_result",
          "data": {
            "text/plain": [
              "0        No\n",
              "1        No\n",
              "2        No\n",
              "3       Yes\n",
              "4       Yes\n",
              "       ... \n",
              "3328     No\n",
              "3329     No\n",
              "3330     No\n",
              "3331    Yes\n",
              "3332     No\n",
              "Name: International plan, Length: 3333, dtype: object"
            ]
          },
          "metadata": {},
          "execution_count": 73
        }
      ]
    },
    {
      "cell_type": "code",
      "source": [
        "df['Voice mail plan']"
      ],
      "metadata": {
        "id": "eMIAK7cWTeiU",
        "outputId": "fb1cb577-bbe7-4cc8-d29d-036d1cf615ba",
        "colab": {
          "base_uri": "https://localhost:8080/"
        }
      },
      "execution_count": 74,
      "outputs": [
        {
          "output_type": "execute_result",
          "data": {
            "text/plain": [
              "0       Yes\n",
              "1       Yes\n",
              "2        No\n",
              "3        No\n",
              "4        No\n",
              "       ... \n",
              "3328    Yes\n",
              "3329     No\n",
              "3330     No\n",
              "3331     No\n",
              "3332    Yes\n",
              "Name: Voice mail plan, Length: 3333, dtype: object"
            ]
          },
          "metadata": {},
          "execution_count": 74
        }
      ]
    },
    {
      "cell_type": "code",
      "source": [
        "df.shape"
      ],
      "metadata": {
        "colab": {
          "base_uri": "https://localhost:8080/"
        },
        "id": "MS7mUs-OPAw_",
        "outputId": "5fbad90e-c293-44ef-996e-b5f4d9ebc598"
      },
      "execution_count": 75,
      "outputs": [
        {
          "output_type": "execute_result",
          "data": {
            "text/plain": [
              "(3333, 20)"
            ]
          },
          "metadata": {},
          "execution_count": 75
        }
      ]
    },
    {
      "cell_type": "code",
      "source": [
        "df.dtypes"
      ],
      "metadata": {
        "colab": {
          "base_uri": "https://localhost:8080/"
        },
        "id": "XLQ5ZGT5PMpp",
        "outputId": "750d274d-31a0-4b90-d39b-3063fa660875"
      },
      "execution_count": 76,
      "outputs": [
        {
          "output_type": "execute_result",
          "data": {
            "text/plain": [
              "State                      object\n",
              "Account length              int64\n",
              "Area code                   int64\n",
              "International plan         object\n",
              "Voice mail plan            object\n",
              "Number vmail messages       int64\n",
              "Total day minutes         float64\n",
              "Total day calls             int64\n",
              "Total day charge          float64\n",
              "Total eve minutes         float64\n",
              "Total eve calls             int64\n",
              "Total eve charge          float64\n",
              "Total night minutes       float64\n",
              "Total night calls           int64\n",
              "Total night charge        float64\n",
              "Total intl minutes        float64\n",
              "Total intl calls            int64\n",
              "Total intl charge         float64\n",
              "Customer service calls      int64\n",
              "Churn                        bool\n",
              "dtype: object"
            ]
          },
          "metadata": {},
          "execution_count": 76
        }
      ]
    },
    {
      "cell_type": "code",
      "source": [
        "num_elementos_diferentes = df['Churn'].nunique()\n",
        "\n",
        "# Exibindo o resultado\n",
        "print(\"Número de elementos diferentes na coluna:\", num_elementos_diferentes)"
      ],
      "metadata": {
        "colab": {
          "base_uri": "https://localhost:8080/"
        },
        "id": "xsBFr3x0Q7R5",
        "outputId": "2e1e0b91-09c3-4c27-8fbc-59e0888612dc"
      },
      "execution_count": 59,
      "outputs": [
        {
          "output_type": "stream",
          "name": "stdout",
          "text": [
            "Número de elementos diferentes na coluna: 2\n"
          ]
        }
      ]
    },
    {
      "cell_type": "code",
      "source": [
        "# Contando os valores True e False na coluna 'Churn'\n",
        "contagem_churn = df['Churn'].value_counts()\n",
        "\n",
        "# Exibindo o resultado\n",
        "print(\"Número de clientes Churn (True) e não Churn (False):\\n\", contagem_churn)"
      ],
      "metadata": {
        "colab": {
          "base_uri": "https://localhost:8080/"
        },
        "id": "kGvHFlv4RVCF",
        "outputId": "ab5070ff-e504-4ba9-9e33-3bac236510db"
      },
      "execution_count": 60,
      "outputs": [
        {
          "output_type": "stream",
          "name": "stdout",
          "text": [
            "Número de clientes Churn (True) e não Churn (False):\n",
            " Churn\n",
            "False    2850\n",
            "True      483\n",
            "Name: count, dtype: int64\n"
          ]
        }
      ]
    },
    {
      "cell_type": "code",
      "source": [
        "tabela_cruzada = pd.crosstab(df['Voice mail plan'], df['Churn'], normalize='index')\n",
        "\n",
        "# Exibindo a tabela cruzada\n",
        "print(tabela_cruzada)"
      ],
      "metadata": {
        "id": "y2S2QP74TqVJ",
        "outputId": "29b83ab5-a610-48ab-e492-223fbacb8245",
        "colab": {
          "base_uri": "https://localhost:8080/"
        }
      },
      "execution_count": 79,
      "outputs": [
        {
          "output_type": "stream",
          "name": "stdout",
          "text": [
            "Churn               False     True \n",
            "Voice mail plan                    \n",
            "No               0.832849  0.167151\n",
            "Yes              0.913232  0.086768\n"
          ]
        }
      ]
    },
    {
      "cell_type": "code",
      "source": [
        "tabela_cruzada = pd.crosstab(df['International plan'], df['Churn'], normalize='index')\n",
        "\n",
        "# Exibindo a tabela cruzada\n",
        "print(tabela_cruzada)"
      ],
      "metadata": {
        "id": "gosNOCSzVO_b",
        "outputId": "e6b349d4-1df7-42ee-fd08-5108f576f146",
        "colab": {
          "base_uri": "https://localhost:8080/"
        }
      },
      "execution_count": 82,
      "outputs": [
        {
          "output_type": "stream",
          "name": "stdout",
          "text": [
            "Churn                  False     True \n",
            "International plan                    \n",
            "No                  0.885050  0.114950\n",
            "Yes                 0.575851  0.424149\n"
          ]
        }
      ]
    }
  ]
}